{
  "cells": [
    {
      "cell_type": "markdown",
      "metadata": {
        "id": "view-in-github",
        "colab_type": "text"
      },
      "source": [
        "<a href=\"https://colab.research.google.com/github/Zledme/AER/blob/main/Audio_Emotion_Recognition.ipynb\" target=\"_parent\"><img src=\"https://colab.research.google.com/assets/colab-badge.svg\" alt=\"Open In Colab\"/></a>"
      ]
    },
    {
      "cell_type": "code",
      "execution_count": null,
      "metadata": {
        "id": "2bb22e85"
      },
      "outputs": [],
      "source": [
        "import time\n",
        "from tqdm import tqdm"
      ],
      "id": "2bb22e85"
    },
    {
      "cell_type": "code",
      "execution_count": null,
      "metadata": {
        "id": "f48fa049"
      },
      "outputs": [],
      "source": [
        "import torch\n",
        "\n",
        "device = torch.device(\"cuda\" if torch.cuda.is_available() else \"cpu\")"
      ],
      "id": "f48fa049"
    },
    {
      "cell_type": "code",
      "execution_count": null,
      "metadata": {
        "colab": {
          "base_uri": "https://localhost:8080/"
        },
        "id": "1c1d6d36",
        "outputId": "30883e46-1153-4664-c018-154b193b5c71"
      },
      "outputs": [
        {
          "output_type": "stream",
          "name": "stdout",
          "text": [
            "File existed\n"
          ]
        }
      ],
      "source": [
        "![ -f Audio_Speech_Actors_01-24.zip ] && echo \"File existed\" || wget \"https://zenodo.org/record/1188976/files/Audio_Speech_Actors_01-24.zip?download=1\" -O Audio_Speech_Actors_01-24.zip"
      ],
      "id": "1c1d6d36"
    },
    {
      "cell_type": "code",
      "execution_count": null,
      "metadata": {
        "colab": {
          "base_uri": "https://localhost:8080/"
        },
        "id": "2b688a2e",
        "outputId": "797016e4-0d2d-4c0c-b53a-df97cbeae12a"
      },
      "outputs": [
        {
          "output_type": "stream",
          "name": "stdout",
          "text": [
            "File existed\n"
          ]
        }
      ],
      "source": [
        "![ -f \"./Audio_Speech_Actors_01-24/Actor_01/03-01-01-01-01-01-01.wav\" ] && echo \"File existed\" || unzip Audio_Speech_Actors_01-24.zip -d \"./Audio_Speech_Actors_01-24/\""
      ],
      "id": "2b688a2e"
    },
    {
      "cell_type": "code",
      "execution_count": null,
      "metadata": {
        "colab": {
          "base_uri": "https://localhost:8080/"
        },
        "id": "e571a697",
        "outputId": "7d3eb40c-33c5-4d8c-9f83-a5f8b5f96f64"
      },
      "outputs": [
        {
          "output_type": "execute_result",
          "data": {
            "text/plain": [
              "neutral     288\n",
              "surprise    192\n",
              "angry       192\n",
              "disgust     192\n",
              "sad         192\n",
              "happy       192\n",
              "fear        192\n",
              "Name: emotion, dtype: int64"
            ]
          },
          "metadata": {},
          "execution_count": 5
        }
      ],
      "source": [
        "import os\n",
        "import pandas as pd\n",
        "\n",
        "RAV = \"./Audio_Speech_Actors_01-24/\"\n",
        "dir_list = os.listdir(RAV)\n",
        "dir_list.sort()\n",
        "\n",
        "emotion = []\n",
        "gender = []\n",
        "path = []\n",
        "for i in dir_list:\n",
        "    fname = os.listdir(RAV + i)\n",
        "    for f in fname:\n",
        "        part = f.split('.')[0].split('-')\n",
        "        emotion.append(int(part[2]))\n",
        "        temp = int(part[6])\n",
        "        if temp%2 == 0:\n",
        "            temp = \"female\"\n",
        "        else:\n",
        "            temp = \"male\"\n",
        "        gender.append(temp)\n",
        "        path.append(RAV + i + '/' + f)\n",
        "\n",
        "        \n",
        "RAV_df = pd.DataFrame(emotion)\n",
        "RAV_df = RAV_df.replace({1:'neutral', 2:'neutral', 3:'happy', 4:'sad', 5:'angry', 6:'fear', 7:'disgust', 8:'surprise'})\n",
        "RAV_df = pd.concat([pd.DataFrame(gender), RAV_df, pd.DataFrame(emotion)],axis=1)\n",
        "RAV_df.columns = ['gender','emotion','labels']\n",
        "RAV_df['source'] = 'RAVDESS'  \n",
        "RAV_df = pd.concat([RAV_df,pd.DataFrame(path, columns = ['path'])],axis=1)\n",
        "RAV_df.emotion.value_counts()"
      ],
      "id": "e571a697"
    },
    {
      "cell_type": "code",
      "execution_count": null,
      "metadata": {
        "id": "1350a76d"
      },
      "outputs": [],
      "source": [
        "RAV_df = RAV_df[(RAV_df[\"emotion\"]==\"neutral\") | (RAV_df[\"emotion\"]==\"happy\") | (RAV_df[\"emotion\"]==\"sad\") | (RAV_df[\"emotion\"]==\"angry\")]"
      ],
      "id": "1350a76d"
    },
    {
      "cell_type": "code",
      "execution_count": null,
      "metadata": {
        "id": "301c6732"
      },
      "outputs": [],
      "source": [
        "train_df = RAV_df.sample(frac=0.8)\n",
        "test_df = RAV_df.drop(train_df.index)"
      ],
      "id": "301c6732"
    },
    {
      "cell_type": "code",
      "execution_count": null,
      "metadata": {
        "id": "85qQPdu5j5b3"
      },
      "outputs": [],
      "source": [
        "!pip install transformers datasets"
      ],
      "id": "85qQPdu5j5b3"
    },
    {
      "cell_type": "code",
      "execution_count": null,
      "metadata": {
        "colab": {
          "base_uri": "https://localhost:8080/",
          "height": 17,
          "referenced_widgets": [
            "7ad0370dbd0b431f873839947b971af7",
            "1ec5ca1b1660472d8e2985d57298b742",
            "ae6d34c9ca5941c6b4cbf8cc0a19e3b0",
            "66e6ac8a4e824810b9adcbaf32c07fc5",
            "2cf28f484ff749288fdd0361691ce7c0",
            "c59330d49a954bd5b8b89ae0d4b4ce18",
            "f72a98f8cafc4d6b88edbd46ac5f5e8f",
            "0ae3eb299549430f8c07f2f839ff55a1",
            "b9613293a7bd4eceb42aee84d2dd866e",
            "24dc4b94690e418d99e052d364fb60c4",
            "912c4aedcb07438b841b063c03a80041",
            "431efd02d7284dfc8a77401d4fe1d1fa",
            "acd9036154034c88a083da347a175110",
            "eac51e86f7d64738ae994ea987b74484",
            "2e56050278404bae8dfa2f0140903eb4",
            "d8999516110f4b09994c3f8e7a6d9d29",
            "2006ec4c6596442d8040580cdaa0623a",
            "d4ed5d7c07264a4c857b3a2ea6643539",
            "7867b74c401649999f75fd8a9c7ebcc5",
            "4474d420a5104fd59683ed23765bf97d",
            "38de5b8a019b4afda0c2f88e2922694e",
            "df7e362c60b34a3f99a7f4643eeac3a0"
          ]
        },
        "id": "14a6a4a2",
        "outputId": "94ace07b-7636-4364-d0bc-0ee2bbe87a8c"
      },
      "outputs": [
        {
          "output_type": "display_data",
          "data": {
            "text/plain": [
              "Map:   0%|          | 0/691 [00:00<?, ? examples/s]"
            ],
            "application/vnd.jupyter.widget-view+json": {
              "version_major": 2,
              "version_minor": 0,
              "model_id": "7ad0370dbd0b431f873839947b971af7"
            }
          },
          "metadata": {}
        },
        {
          "output_type": "display_data",
          "data": {
            "text/plain": [
              "Map:   0%|          | 0/173 [00:00<?, ? examples/s]"
            ],
            "application/vnd.jupyter.widget-view+json": {
              "version_major": 2,
              "version_minor": 0,
              "model_id": "431efd02d7284dfc8a77401d4fe1d1fa"
            }
          },
          "metadata": {}
        }
      ],
      "source": [
        "from transformers import Wav2Vec2FeatureExtractor\n",
        "from datasets import Dataset\n",
        "import librosa\n",
        "\n",
        "def map_to_array(example):\n",
        "    speech, _ = librosa.load(example[\"path\"], sr=16000, mono=True)\n",
        "    example[\"speech\"] = speech\n",
        "    return example\n",
        "\n",
        "train_data = Dataset.from_pandas(train_df).map(map_to_array)\n",
        "test_data = Dataset.from_pandas(test_df).map(map_to_array)\n",
        "\n",
        "feature_extractor = Wav2Vec2FeatureExtractor.from_pretrained(\"superb/hubert-large-superb-er\")\n",
        "\n",
        "train_encodings = feature_extractor(list(train_data[\"speech\"]), sampling_rate=16000, padding=True, return_tensors=\"pt\")\n",
        "test_encodings = feature_extractor(list(test_data[\"speech\"]), sampling_rate=16000, padding=True, return_tensors=\"pt\")"
      ],
      "id": "14a6a4a2"
    },
    {
      "cell_type": "code",
      "execution_count": null,
      "metadata": {
        "id": "58940eea"
      },
      "outputs": [],
      "source": [
        "class EmotionDataset(torch.utils.data.Dataset):\n",
        "    def __init__(self, encodings, labels):\n",
        "        self.encodings = encodings\n",
        "        pattern = {1:0, 2:0, 3:1, 4:3, 5:2}\n",
        "        self.labels = [pattern[x] for x in labels]\n",
        "\n",
        "    def __getitem__(self, idx):\n",
        "        item = {key: val[idx] for key, val in self.encodings.items()}\n",
        "        item['labels'] = torch.tensor(self.labels[idx])\n",
        "        return item\n",
        "\n",
        "    def __len__(self):\n",
        "        return len(self.labels)\n",
        "    \n",
        "\n",
        "train_dataset = EmotionDataset(train_encodings, list(train_data[\"labels\"]))\n",
        "test_dataset = EmotionDataset(test_encodings, list(test_data[\"labels\"]))"
      ],
      "id": "58940eea"
    },
    {
      "cell_type": "code",
      "execution_count": null,
      "metadata": {
        "id": "f49c7a8b"
      },
      "outputs": [],
      "source": [
        "from transformers import HubertForSequenceClassification\n",
        "from torch.optim import AdamW\n",
        "\n",
        "\n",
        "model = HubertForSequenceClassification.from_pretrained(\"superb/hubert-large-superb-er\")\n",
        "model.to(device)\n",
        "\n",
        "optim = AdamW(model.parameters(), lr=1e-5)"
      ],
      "id": "f49c7a8b"
    },
    {
      "cell_type": "code",
      "execution_count": null,
      "metadata": {
        "id": "efabfb4a"
      },
      "outputs": [],
      "source": [
        "def predict(outputs):\n",
        "    probabilities = torch.softmax(outputs[\"logits\"], dim=1)\n",
        "    predictions = torch.argmax(probabilities, dim=1)\n",
        "    return predictions"
      ],
      "id": "efabfb4a"
    },
    {
      "cell_type": "code",
      "execution_count": null,
      "metadata": {
        "id": "026f2f04",
        "scrolled": true
      },
      "outputs": [],
      "source": [
        "from torch.utils.data import DataLoader\n",
        "\n",
        "epoch = 4\n",
        "\n",
        "model.train()\n",
        "\n",
        "for epoch_i in range(epoch):\n",
        "    print('Epoch %s/%s' % (epoch_i + 1, epoch))\n",
        "    time.sleep(0.3)\n",
        "\n",
        "    train_loader = DataLoader(train_dataset, batch_size=2, shuffle=True)\n",
        "    \n",
        "    correct = 0\n",
        "    count = 0\n",
        "    epoch_loss = list()\n",
        "    \n",
        "    pbar = tqdm(train_loader)\n",
        "    for batch in pbar:\n",
        "        optim.zero_grad()\n",
        "        input_ids = batch['input_values'].to(device)\n",
        "        attention_mask = batch['attention_mask'].to(device)\n",
        "        labels = batch['labels'].to(device)\n",
        "        outputs = model(input_ids, attention_mask=attention_mask, labels=labels)\n",
        "        loss = outputs['loss']\n",
        "        loss.backward()\n",
        "        optim.step()\n",
        "        \n",
        "        predictions = predict(outputs)\n",
        "\n",
        "        correct += predictions.eq(labels).sum().item()\n",
        "        count += len(labels)\n",
        "        accuracy = correct * 1.0 / count\n",
        "\n",
        "        pbar.set_postfix({\n",
        "            'Loss': '{:.3f}'.format(loss.item()),\n",
        "            'Accuracy': '{:.3f}'.format(accuracy)\n",
        "        })\n",
        "        \n",
        "        epoch_loss.append(loss.item())\n",
        "        \n",
        "    pbar.close()"
      ],
      "id": "026f2f04"
    },
    {
      "cell_type": "code",
      "execution_count": null,
      "metadata": {
        "id": "UICMRdDFs_Jy"
      },
      "outputs": [],
      "source": [
        "model = torch.load('model.pth').to(device)"
      ],
      "id": "UICMRdDFs_Jy"
    },
    {
      "cell_type": "code",
      "execution_count": null,
      "metadata": {
        "colab": {
          "base_uri": "https://localhost:8080/"
        },
        "id": "Hqd_BprZ13Gq",
        "outputId": "d77d2721-b475-48b9-ca6f-fa3df4e5089d"
      },
      "outputs": [
        {
          "output_type": "stream",
          "name": "stdout",
          "text": [
            "Looking in indexes: https://pypi.org/simple, https://us-python.pkg.dev/colab-wheels/public/simple/\n",
            "Requirement already satisfied: ffmpeg-python in /usr/local/lib/python3.9/dist-packages (0.2.0)\n",
            "Requirement already satisfied: future in /usr/local/lib/python3.9/dist-packages (from ffmpeg-python) (0.18.3)\n"
          ]
        }
      ],
      "source": [
        "!pip install ffmpeg-python"
      ],
      "id": "Hqd_BprZ13Gq"
    },
    {
      "cell_type": "code",
      "execution_count": null,
      "metadata": {
        "colab": {
          "base_uri": "https://localhost:8080/"
        },
        "id": "jipB2wAZ2IxT",
        "outputId": "f5fda863-5024-4d49-fee6-02ccd7d62db2"
      },
      "outputs": [
        {
          "output_type": "stream",
          "name": "stdout",
          "text": [
            "Looking in indexes: https://pypi.org/simple, https://us-python.pkg.dev/colab-wheels/public/simple/\n",
            "Requirement already satisfied: IPython in /usr/local/lib/python3.9/dist-packages (7.34.0)\n",
            "Requirement already satisfied: traitlets>=4.2 in /usr/local/lib/python3.9/dist-packages (from IPython) (5.7.1)\n",
            "Requirement already satisfied: pickleshare in /usr/local/lib/python3.9/dist-packages (from IPython) (0.7.5)\n",
            "Requirement already satisfied: pygments in /usr/local/lib/python3.9/dist-packages (from IPython) (2.14.0)\n",
            "Requirement already satisfied: backcall in /usr/local/lib/python3.9/dist-packages (from IPython) (0.2.0)\n",
            "Requirement already satisfied: setuptools>=18.5 in /usr/local/lib/python3.9/dist-packages (from IPython) (67.6.1)\n",
            "Requirement already satisfied: jedi>=0.16 in /usr/local/lib/python3.9/dist-packages (from IPython) (0.18.2)\n",
            "Requirement already satisfied: pexpect>4.3 in /usr/local/lib/python3.9/dist-packages (from IPython) (4.8.0)\n",
            "Requirement already satisfied: prompt-toolkit!=3.0.0,!=3.0.1,<3.1.0,>=2.0.0 in /usr/local/lib/python3.9/dist-packages (from IPython) (3.0.38)\n",
            "Requirement already satisfied: matplotlib-inline in /usr/local/lib/python3.9/dist-packages (from IPython) (0.1.6)\n",
            "Requirement already satisfied: decorator in /usr/local/lib/python3.9/dist-packages (from IPython) (4.4.2)\n",
            "Requirement already satisfied: parso<0.9.0,>=0.8.0 in /usr/local/lib/python3.9/dist-packages (from jedi>=0.16->IPython) (0.8.3)\n",
            "Requirement already satisfied: ptyprocess>=0.5 in /usr/local/lib/python3.9/dist-packages (from pexpect>4.3->IPython) (0.7.0)\n",
            "Requirement already satisfied: wcwidth in /usr/local/lib/python3.9/dist-packages (from prompt-toolkit!=3.0.0,!=3.0.1,<3.1.0,>=2.0.0->IPython) (0.2.6)\n"
          ]
        }
      ],
      "source": [
        "!pip install IPython"
      ],
      "id": "jipB2wAZ2IxT"
    },
    {
      "cell_type": "code",
      "execution_count": null,
      "metadata": {
        "id": "JkYUTXZWzjJw"
      },
      "outputs": [],
      "source": [
        "from IPython.display import HTML, Audio\n",
        "from google.colab.output import eval_js\n",
        "from base64 import b64decode\n",
        "import numpy as np\n",
        "from scipy.io.wavfile import read as wav_read\n",
        "import io\n",
        "import ffmpeg\n",
        "\n",
        "AUDIO_HTML = \"\"\"\n",
        "<script>\n",
        "var my_div = document.createElement(\"DIV\");\n",
        "var my_p = document.createElement(\"P\");\n",
        "var my_btn = document.createElement(\"BUTTON\");\n",
        "var t = document.createTextNode(\"Press to start recording\");\n",
        "\n",
        "my_btn.appendChild(t);\n",
        "//my_p.appendChild(my_btn);\n",
        "my_div.appendChild(my_btn);\n",
        "document.body.appendChild(my_div);\n",
        "\n",
        "var base64data = 0;\n",
        "var reader;\n",
        "var recorder, gumStream;\n",
        "var recordButton = my_btn;\n",
        "\n",
        "var handleSuccess = function(stream) {\n",
        "  gumStream = stream;\n",
        "  var options = {\n",
        "    //bitsPerSecond: 8000, //chrome seems to ignore, always 48k\n",
        "    mimeType : 'audio/webm;codecs=opus'\n",
        "    //mimeType : 'audio/webm;codecs=pcm'\n",
        "  };            \n",
        "  //recorder = new MediaRecorder(stream, options);\n",
        "  recorder = new MediaRecorder(stream);\n",
        "  recorder.ondataavailable = function(e) {            \n",
        "    var url = URL.createObjectURL(e.data);\n",
        "    var preview = document.createElement('audio');\n",
        "    preview.controls = true;\n",
        "    preview.src = url;\n",
        "    document.body.appendChild(preview);\n",
        "\n",
        "    reader = new FileReader();\n",
        "    reader.readAsDataURL(e.data); \n",
        "    reader.onloadend = function() {\n",
        "      base64data = reader.result;\n",
        "      //console.log(\"Inside FileReader:\" + base64data);\n",
        "    }\n",
        "  };\n",
        "  recorder.start();\n",
        "  };\n",
        "\n",
        "recordButton.innerText = \"Recording... press to stop\";\n",
        "\n",
        "navigator.mediaDevices.getUserMedia({audio: true}).then(handleSuccess);\n",
        "\n",
        "\n",
        "function toggleRecording() {\n",
        "  if (recorder && recorder.state == \"recording\") {\n",
        "      recorder.stop();\n",
        "      gumStream.getAudioTracks()[0].stop();\n",
        "      recordButton.innerText = \"Saving the recording... pls wait!\"\n",
        "  }\n",
        "}\n",
        "\n",
        "// https://stackoverflow.com/a/951057\n",
        "function sleep(ms) {\n",
        "  return new Promise(resolve => setTimeout(resolve, ms));\n",
        "}\n",
        "\n",
        "var data = new Promise(resolve=>{\n",
        "//recordButton.addEventListener(\"click\", toggleRecording);\n",
        "recordButton.onclick = ()=>{\n",
        "toggleRecording()\n",
        "\n",
        "sleep(2000).then(() => {\n",
        "  // wait 2000ms for the data to be available...\n",
        "  // ideally this should use something like await...\n",
        "  //console.log(\"Inside data:\" + base64data)\n",
        "  resolve(base64data.toString())\n",
        "\n",
        "});\n",
        "\n",
        "}\n",
        "});\n",
        "      \n",
        "</script>\n",
        "\"\"\"\n",
        "\n",
        "def get_audio():\n",
        "  display(HTML(AUDIO_HTML))\n",
        "  data = eval_js(\"data\")\n",
        "  binary = b64decode(data.split(',')[1])\n",
        "  \n",
        "  process = (ffmpeg\n",
        "    .input('pipe:0')\n",
        "    .output('pipe:1', format='wav')\n",
        "    .run_async(pipe_stdin=True, pipe_stdout=True, pipe_stderr=True, quiet=True, overwrite_output=True)\n",
        "  )\n",
        "  output, err = process.communicate(input=binary)\n",
        "  \n",
        "  riff_chunk_size = len(output) - 8\n",
        "  # Break up the chunk size into four bytes, held in b.\n",
        "  q = riff_chunk_size\n",
        "  b = []\n",
        "  for i in range(4):\n",
        "      q, r = divmod(q, 256)\n",
        "      b.append(r)\n",
        "\n",
        "  # Replace bytes 4:8 in proc.stdout with the actual size of the RIFF chunk.\n",
        "  riff = output[:4] + bytes(b) + output[8:]\n",
        "\n",
        "  sr, audio = wav_read(io.BytesIO(riff))\n",
        "\n",
        "  return audio, sr"
      ],
      "id": "JkYUTXZWzjJw"
    },
    {
      "cell_type": "code",
      "execution_count": null,
      "metadata": {
        "id": "eLMkrJPNzla0"
      },
      "outputs": [],
      "source": [
        "audio, sr = get_audio()"
      ],
      "id": "eLMkrJPNzla0"
    },
    {
      "cell_type": "code",
      "execution_count": null,
      "metadata": {
        "id": "3a8ZgL_v06Fy"
      },
      "outputs": [],
      "source": [
        "test = feature_extractor(audio, sampling_rate=16000, padding=True, return_tensors=\"pt\" ).to(device).to(torch.float32)"
      ],
      "id": "3a8ZgL_v06Fy"
    },
    {
      "cell_type": "code",
      "execution_count": null,
      "metadata": {
        "id": "bFzSJvrO2yuZ"
      },
      "outputs": [],
      "source": [],
      "id": "bFzSJvrO2yuZ"
    },
    {
      "cell_type": "code",
      "execution_count": null,
      "metadata": {
        "id": "zcK2GmaD35Qm"
      },
      "outputs": [],
      "source": [
        "predictions = predict(model(**test))"
      ],
      "id": "zcK2GmaD35Qm"
    },
    {
      "cell_type": "code",
      "source": [
        "logits = model(**test).logits"
      ],
      "metadata": {
        "id": "4YY7MaJFAej4"
      },
      "id": "4YY7MaJFAej4",
      "execution_count": null,
      "outputs": []
    },
    {
      "cell_type": "code",
      "source": [
        "predicted_ids = torch.argmax(logits, dim=-1)"
      ],
      "metadata": {
        "id": "5vn03X6BAb2v"
      },
      "id": "5vn03X6BAb2v",
      "execution_count": null,
      "outputs": []
    },
    {
      "cell_type": "code",
      "source": [
        "labels = [model.config.id2label[_id] for _id in predicted_ids.tolist()]"
      ],
      "metadata": {
        "id": "dGt2X5yR_ENJ"
      },
      "id": "dGt2X5yR_ENJ",
      "execution_count": null,
      "outputs": []
    },
    {
      "cell_type": "code",
      "source": [
        "print(labels)"
      ],
      "metadata": {
        "colab": {
          "base_uri": "https://localhost:8080/"
        },
        "id": "TsAvXm13ApFv",
        "outputId": "2c5608cf-6b06-4596-a11b-7a44d928cf37"
      },
      "id": "TsAvXm13ApFv",
      "execution_count": null,
      "outputs": [
        {
          "output_type": "stream",
          "name": "stdout",
          "text": [
            "['sad']\n"
          ]
        }
      ]
    },
    {
      "cell_type": "code",
      "execution_count": null,
      "metadata": {
        "id": "3VsFZAFX39Ob"
      },
      "outputs": [],
      "source": [],
      "id": "3VsFZAFX39Ob"
    },
    {
      "cell_type": "code",
      "execution_count": null,
      "metadata": {
        "id": "DY-h4w0-6fkO"
      },
      "outputs": [],
      "source": [],
      "id": "DY-h4w0-6fkO"
    }
  ],
  "metadata": {
    "accelerator": "GPU",
    "colab": {
      "provenance": [],
      "include_colab_link": true
    },
    "gpuClass": "standard",
    "kernelspec": {
      "display_name": "Python 3",
      "language": "python",
      "name": "python3"
    },
    "language_info": {
      "codemirror_mode": {
        "name": "ipython",
        "version": 3
      },
      "file_extension": ".py",
      "mimetype": "text/x-python",
      "name": "python",
      "nbconvert_exporter": "python",
      "pygments_lexer": "ipython3",
      "version": "3.8.8"
    },
    "widgets": {
      "application/vnd.jupyter.widget-state+json": {
        "7ad0370dbd0b431f873839947b971af7": {
          "model_module": "@jupyter-widgets/controls",
          "model_name": "HBoxModel",
          "model_module_version": "1.5.0",
          "state": {
            "_dom_classes": [],
            "_model_module": "@jupyter-widgets/controls",
            "_model_module_version": "1.5.0",
            "_model_name": "HBoxModel",
            "_view_count": null,
            "_view_module": "@jupyter-widgets/controls",
            "_view_module_version": "1.5.0",
            "_view_name": "HBoxView",
            "box_style": "",
            "children": [
              "IPY_MODEL_1ec5ca1b1660472d8e2985d57298b742",
              "IPY_MODEL_ae6d34c9ca5941c6b4cbf8cc0a19e3b0",
              "IPY_MODEL_66e6ac8a4e824810b9adcbaf32c07fc5"
            ],
            "layout": "IPY_MODEL_2cf28f484ff749288fdd0361691ce7c0"
          }
        },
        "1ec5ca1b1660472d8e2985d57298b742": {
          "model_module": "@jupyter-widgets/controls",
          "model_name": "HTMLModel",
          "model_module_version": "1.5.0",
          "state": {
            "_dom_classes": [],
            "_model_module": "@jupyter-widgets/controls",
            "_model_module_version": "1.5.0",
            "_model_name": "HTMLModel",
            "_view_count": null,
            "_view_module": "@jupyter-widgets/controls",
            "_view_module_version": "1.5.0",
            "_view_name": "HTMLView",
            "description": "",
            "description_tooltip": null,
            "layout": "IPY_MODEL_c59330d49a954bd5b8b89ae0d4b4ce18",
            "placeholder": "​",
            "style": "IPY_MODEL_f72a98f8cafc4d6b88edbd46ac5f5e8f",
            "value": "Map:  99%"
          }
        },
        "ae6d34c9ca5941c6b4cbf8cc0a19e3b0": {
          "model_module": "@jupyter-widgets/controls",
          "model_name": "FloatProgressModel",
          "model_module_version": "1.5.0",
          "state": {
            "_dom_classes": [],
            "_model_module": "@jupyter-widgets/controls",
            "_model_module_version": "1.5.0",
            "_model_name": "FloatProgressModel",
            "_view_count": null,
            "_view_module": "@jupyter-widgets/controls",
            "_view_module_version": "1.5.0",
            "_view_name": "ProgressView",
            "bar_style": "",
            "description": "",
            "description_tooltip": null,
            "layout": "IPY_MODEL_0ae3eb299549430f8c07f2f839ff55a1",
            "max": 691,
            "min": 0,
            "orientation": "horizontal",
            "style": "IPY_MODEL_b9613293a7bd4eceb42aee84d2dd866e",
            "value": 691
          }
        },
        "66e6ac8a4e824810b9adcbaf32c07fc5": {
          "model_module": "@jupyter-widgets/controls",
          "model_name": "HTMLModel",
          "model_module_version": "1.5.0",
          "state": {
            "_dom_classes": [],
            "_model_module": "@jupyter-widgets/controls",
            "_model_module_version": "1.5.0",
            "_model_name": "HTMLModel",
            "_view_count": null,
            "_view_module": "@jupyter-widgets/controls",
            "_view_module_version": "1.5.0",
            "_view_name": "HTMLView",
            "description": "",
            "description_tooltip": null,
            "layout": "IPY_MODEL_24dc4b94690e418d99e052d364fb60c4",
            "placeholder": "​",
            "style": "IPY_MODEL_912c4aedcb07438b841b063c03a80041",
            "value": " 686/691 [00:09&lt;00:00, 133.91 examples/s]"
          }
        },
        "2cf28f484ff749288fdd0361691ce7c0": {
          "model_module": "@jupyter-widgets/base",
          "model_name": "LayoutModel",
          "model_module_version": "1.2.0",
          "state": {
            "_model_module": "@jupyter-widgets/base",
            "_model_module_version": "1.2.0",
            "_model_name": "LayoutModel",
            "_view_count": null,
            "_view_module": "@jupyter-widgets/base",
            "_view_module_version": "1.2.0",
            "_view_name": "LayoutView",
            "align_content": null,
            "align_items": null,
            "align_self": null,
            "border": null,
            "bottom": null,
            "display": null,
            "flex": null,
            "flex_flow": null,
            "grid_area": null,
            "grid_auto_columns": null,
            "grid_auto_flow": null,
            "grid_auto_rows": null,
            "grid_column": null,
            "grid_gap": null,
            "grid_row": null,
            "grid_template_areas": null,
            "grid_template_columns": null,
            "grid_template_rows": null,
            "height": null,
            "justify_content": null,
            "justify_items": null,
            "left": null,
            "margin": null,
            "max_height": null,
            "max_width": null,
            "min_height": null,
            "min_width": null,
            "object_fit": null,
            "object_position": null,
            "order": null,
            "overflow": null,
            "overflow_x": null,
            "overflow_y": null,
            "padding": null,
            "right": null,
            "top": null,
            "visibility": "hidden",
            "width": null
          }
        },
        "c59330d49a954bd5b8b89ae0d4b4ce18": {
          "model_module": "@jupyter-widgets/base",
          "model_name": "LayoutModel",
          "model_module_version": "1.2.0",
          "state": {
            "_model_module": "@jupyter-widgets/base",
            "_model_module_version": "1.2.0",
            "_model_name": "LayoutModel",
            "_view_count": null,
            "_view_module": "@jupyter-widgets/base",
            "_view_module_version": "1.2.0",
            "_view_name": "LayoutView",
            "align_content": null,
            "align_items": null,
            "align_self": null,
            "border": null,
            "bottom": null,
            "display": null,
            "flex": null,
            "flex_flow": null,
            "grid_area": null,
            "grid_auto_columns": null,
            "grid_auto_flow": null,
            "grid_auto_rows": null,
            "grid_column": null,
            "grid_gap": null,
            "grid_row": null,
            "grid_template_areas": null,
            "grid_template_columns": null,
            "grid_template_rows": null,
            "height": null,
            "justify_content": null,
            "justify_items": null,
            "left": null,
            "margin": null,
            "max_height": null,
            "max_width": null,
            "min_height": null,
            "min_width": null,
            "object_fit": null,
            "object_position": null,
            "order": null,
            "overflow": null,
            "overflow_x": null,
            "overflow_y": null,
            "padding": null,
            "right": null,
            "top": null,
            "visibility": null,
            "width": null
          }
        },
        "f72a98f8cafc4d6b88edbd46ac5f5e8f": {
          "model_module": "@jupyter-widgets/controls",
          "model_name": "DescriptionStyleModel",
          "model_module_version": "1.5.0",
          "state": {
            "_model_module": "@jupyter-widgets/controls",
            "_model_module_version": "1.5.0",
            "_model_name": "DescriptionStyleModel",
            "_view_count": null,
            "_view_module": "@jupyter-widgets/base",
            "_view_module_version": "1.2.0",
            "_view_name": "StyleView",
            "description_width": ""
          }
        },
        "0ae3eb299549430f8c07f2f839ff55a1": {
          "model_module": "@jupyter-widgets/base",
          "model_name": "LayoutModel",
          "model_module_version": "1.2.0",
          "state": {
            "_model_module": "@jupyter-widgets/base",
            "_model_module_version": "1.2.0",
            "_model_name": "LayoutModel",
            "_view_count": null,
            "_view_module": "@jupyter-widgets/base",
            "_view_module_version": "1.2.0",
            "_view_name": "LayoutView",
            "align_content": null,
            "align_items": null,
            "align_self": null,
            "border": null,
            "bottom": null,
            "display": null,
            "flex": null,
            "flex_flow": null,
            "grid_area": null,
            "grid_auto_columns": null,
            "grid_auto_flow": null,
            "grid_auto_rows": null,
            "grid_column": null,
            "grid_gap": null,
            "grid_row": null,
            "grid_template_areas": null,
            "grid_template_columns": null,
            "grid_template_rows": null,
            "height": null,
            "justify_content": null,
            "justify_items": null,
            "left": null,
            "margin": null,
            "max_height": null,
            "max_width": null,
            "min_height": null,
            "min_width": null,
            "object_fit": null,
            "object_position": null,
            "order": null,
            "overflow": null,
            "overflow_x": null,
            "overflow_y": null,
            "padding": null,
            "right": null,
            "top": null,
            "visibility": null,
            "width": null
          }
        },
        "b9613293a7bd4eceb42aee84d2dd866e": {
          "model_module": "@jupyter-widgets/controls",
          "model_name": "ProgressStyleModel",
          "model_module_version": "1.5.0",
          "state": {
            "_model_module": "@jupyter-widgets/controls",
            "_model_module_version": "1.5.0",
            "_model_name": "ProgressStyleModel",
            "_view_count": null,
            "_view_module": "@jupyter-widgets/base",
            "_view_module_version": "1.2.0",
            "_view_name": "StyleView",
            "bar_color": null,
            "description_width": ""
          }
        },
        "24dc4b94690e418d99e052d364fb60c4": {
          "model_module": "@jupyter-widgets/base",
          "model_name": "LayoutModel",
          "model_module_version": "1.2.0",
          "state": {
            "_model_module": "@jupyter-widgets/base",
            "_model_module_version": "1.2.0",
            "_model_name": "LayoutModel",
            "_view_count": null,
            "_view_module": "@jupyter-widgets/base",
            "_view_module_version": "1.2.0",
            "_view_name": "LayoutView",
            "align_content": null,
            "align_items": null,
            "align_self": null,
            "border": null,
            "bottom": null,
            "display": null,
            "flex": null,
            "flex_flow": null,
            "grid_area": null,
            "grid_auto_columns": null,
            "grid_auto_flow": null,
            "grid_auto_rows": null,
            "grid_column": null,
            "grid_gap": null,
            "grid_row": null,
            "grid_template_areas": null,
            "grid_template_columns": null,
            "grid_template_rows": null,
            "height": null,
            "justify_content": null,
            "justify_items": null,
            "left": null,
            "margin": null,
            "max_height": null,
            "max_width": null,
            "min_height": null,
            "min_width": null,
            "object_fit": null,
            "object_position": null,
            "order": null,
            "overflow": null,
            "overflow_x": null,
            "overflow_y": null,
            "padding": null,
            "right": null,
            "top": null,
            "visibility": null,
            "width": null
          }
        },
        "912c4aedcb07438b841b063c03a80041": {
          "model_module": "@jupyter-widgets/controls",
          "model_name": "DescriptionStyleModel",
          "model_module_version": "1.5.0",
          "state": {
            "_model_module": "@jupyter-widgets/controls",
            "_model_module_version": "1.5.0",
            "_model_name": "DescriptionStyleModel",
            "_view_count": null,
            "_view_module": "@jupyter-widgets/base",
            "_view_module_version": "1.2.0",
            "_view_name": "StyleView",
            "description_width": ""
          }
        },
        "431efd02d7284dfc8a77401d4fe1d1fa": {
          "model_module": "@jupyter-widgets/controls",
          "model_name": "HBoxModel",
          "model_module_version": "1.5.0",
          "state": {
            "_dom_classes": [],
            "_model_module": "@jupyter-widgets/controls",
            "_model_module_version": "1.5.0",
            "_model_name": "HBoxModel",
            "_view_count": null,
            "_view_module": "@jupyter-widgets/controls",
            "_view_module_version": "1.5.0",
            "_view_name": "HBoxView",
            "box_style": "",
            "children": [
              "IPY_MODEL_acd9036154034c88a083da347a175110",
              "IPY_MODEL_eac51e86f7d64738ae994ea987b74484",
              "IPY_MODEL_2e56050278404bae8dfa2f0140903eb4"
            ],
            "layout": "IPY_MODEL_d8999516110f4b09994c3f8e7a6d9d29"
          }
        },
        "acd9036154034c88a083da347a175110": {
          "model_module": "@jupyter-widgets/controls",
          "model_name": "HTMLModel",
          "model_module_version": "1.5.0",
          "state": {
            "_dom_classes": [],
            "_model_module": "@jupyter-widgets/controls",
            "_model_module_version": "1.5.0",
            "_model_name": "HTMLModel",
            "_view_count": null,
            "_view_module": "@jupyter-widgets/controls",
            "_view_module_version": "1.5.0",
            "_view_name": "HTMLView",
            "description": "",
            "description_tooltip": null,
            "layout": "IPY_MODEL_2006ec4c6596442d8040580cdaa0623a",
            "placeholder": "​",
            "style": "IPY_MODEL_d4ed5d7c07264a4c857b3a2ea6643539",
            "value": "Map:  93%"
          }
        },
        "eac51e86f7d64738ae994ea987b74484": {
          "model_module": "@jupyter-widgets/controls",
          "model_name": "FloatProgressModel",
          "model_module_version": "1.5.0",
          "state": {
            "_dom_classes": [],
            "_model_module": "@jupyter-widgets/controls",
            "_model_module_version": "1.5.0",
            "_model_name": "FloatProgressModel",
            "_view_count": null,
            "_view_module": "@jupyter-widgets/controls",
            "_view_module_version": "1.5.0",
            "_view_name": "ProgressView",
            "bar_style": "",
            "description": "",
            "description_tooltip": null,
            "layout": "IPY_MODEL_7867b74c401649999f75fd8a9c7ebcc5",
            "max": 173,
            "min": 0,
            "orientation": "horizontal",
            "style": "IPY_MODEL_4474d420a5104fd59683ed23765bf97d",
            "value": 173
          }
        },
        "2e56050278404bae8dfa2f0140903eb4": {
          "model_module": "@jupyter-widgets/controls",
          "model_name": "HTMLModel",
          "model_module_version": "1.5.0",
          "state": {
            "_dom_classes": [],
            "_model_module": "@jupyter-widgets/controls",
            "_model_module_version": "1.5.0",
            "_model_name": "HTMLModel",
            "_view_count": null,
            "_view_module": "@jupyter-widgets/controls",
            "_view_module_version": "1.5.0",
            "_view_name": "HTMLView",
            "description": "",
            "description_tooltip": null,
            "layout": "IPY_MODEL_38de5b8a019b4afda0c2f88e2922694e",
            "placeholder": "​",
            "style": "IPY_MODEL_df7e362c60b34a3f99a7f4643eeac3a0",
            "value": " 161/173 [00:01&lt;00:00, 147.88 examples/s]"
          }
        },
        "d8999516110f4b09994c3f8e7a6d9d29": {
          "model_module": "@jupyter-widgets/base",
          "model_name": "LayoutModel",
          "model_module_version": "1.2.0",
          "state": {
            "_model_module": "@jupyter-widgets/base",
            "_model_module_version": "1.2.0",
            "_model_name": "LayoutModel",
            "_view_count": null,
            "_view_module": "@jupyter-widgets/base",
            "_view_module_version": "1.2.0",
            "_view_name": "LayoutView",
            "align_content": null,
            "align_items": null,
            "align_self": null,
            "border": null,
            "bottom": null,
            "display": null,
            "flex": null,
            "flex_flow": null,
            "grid_area": null,
            "grid_auto_columns": null,
            "grid_auto_flow": null,
            "grid_auto_rows": null,
            "grid_column": null,
            "grid_gap": null,
            "grid_row": null,
            "grid_template_areas": null,
            "grid_template_columns": null,
            "grid_template_rows": null,
            "height": null,
            "justify_content": null,
            "justify_items": null,
            "left": null,
            "margin": null,
            "max_height": null,
            "max_width": null,
            "min_height": null,
            "min_width": null,
            "object_fit": null,
            "object_position": null,
            "order": null,
            "overflow": null,
            "overflow_x": null,
            "overflow_y": null,
            "padding": null,
            "right": null,
            "top": null,
            "visibility": "hidden",
            "width": null
          }
        },
        "2006ec4c6596442d8040580cdaa0623a": {
          "model_module": "@jupyter-widgets/base",
          "model_name": "LayoutModel",
          "model_module_version": "1.2.0",
          "state": {
            "_model_module": "@jupyter-widgets/base",
            "_model_module_version": "1.2.0",
            "_model_name": "LayoutModel",
            "_view_count": null,
            "_view_module": "@jupyter-widgets/base",
            "_view_module_version": "1.2.0",
            "_view_name": "LayoutView",
            "align_content": null,
            "align_items": null,
            "align_self": null,
            "border": null,
            "bottom": null,
            "display": null,
            "flex": null,
            "flex_flow": null,
            "grid_area": null,
            "grid_auto_columns": null,
            "grid_auto_flow": null,
            "grid_auto_rows": null,
            "grid_column": null,
            "grid_gap": null,
            "grid_row": null,
            "grid_template_areas": null,
            "grid_template_columns": null,
            "grid_template_rows": null,
            "height": null,
            "justify_content": null,
            "justify_items": null,
            "left": null,
            "margin": null,
            "max_height": null,
            "max_width": null,
            "min_height": null,
            "min_width": null,
            "object_fit": null,
            "object_position": null,
            "order": null,
            "overflow": null,
            "overflow_x": null,
            "overflow_y": null,
            "padding": null,
            "right": null,
            "top": null,
            "visibility": null,
            "width": null
          }
        },
        "d4ed5d7c07264a4c857b3a2ea6643539": {
          "model_module": "@jupyter-widgets/controls",
          "model_name": "DescriptionStyleModel",
          "model_module_version": "1.5.0",
          "state": {
            "_model_module": "@jupyter-widgets/controls",
            "_model_module_version": "1.5.0",
            "_model_name": "DescriptionStyleModel",
            "_view_count": null,
            "_view_module": "@jupyter-widgets/base",
            "_view_module_version": "1.2.0",
            "_view_name": "StyleView",
            "description_width": ""
          }
        },
        "7867b74c401649999f75fd8a9c7ebcc5": {
          "model_module": "@jupyter-widgets/base",
          "model_name": "LayoutModel",
          "model_module_version": "1.2.0",
          "state": {
            "_model_module": "@jupyter-widgets/base",
            "_model_module_version": "1.2.0",
            "_model_name": "LayoutModel",
            "_view_count": null,
            "_view_module": "@jupyter-widgets/base",
            "_view_module_version": "1.2.0",
            "_view_name": "LayoutView",
            "align_content": null,
            "align_items": null,
            "align_self": null,
            "border": null,
            "bottom": null,
            "display": null,
            "flex": null,
            "flex_flow": null,
            "grid_area": null,
            "grid_auto_columns": null,
            "grid_auto_flow": null,
            "grid_auto_rows": null,
            "grid_column": null,
            "grid_gap": null,
            "grid_row": null,
            "grid_template_areas": null,
            "grid_template_columns": null,
            "grid_template_rows": null,
            "height": null,
            "justify_content": null,
            "justify_items": null,
            "left": null,
            "margin": null,
            "max_height": null,
            "max_width": null,
            "min_height": null,
            "min_width": null,
            "object_fit": null,
            "object_position": null,
            "order": null,
            "overflow": null,
            "overflow_x": null,
            "overflow_y": null,
            "padding": null,
            "right": null,
            "top": null,
            "visibility": null,
            "width": null
          }
        },
        "4474d420a5104fd59683ed23765bf97d": {
          "model_module": "@jupyter-widgets/controls",
          "model_name": "ProgressStyleModel",
          "model_module_version": "1.5.0",
          "state": {
            "_model_module": "@jupyter-widgets/controls",
            "_model_module_version": "1.5.0",
            "_model_name": "ProgressStyleModel",
            "_view_count": null,
            "_view_module": "@jupyter-widgets/base",
            "_view_module_version": "1.2.0",
            "_view_name": "StyleView",
            "bar_color": null,
            "description_width": ""
          }
        },
        "38de5b8a019b4afda0c2f88e2922694e": {
          "model_module": "@jupyter-widgets/base",
          "model_name": "LayoutModel",
          "model_module_version": "1.2.0",
          "state": {
            "_model_module": "@jupyter-widgets/base",
            "_model_module_version": "1.2.0",
            "_model_name": "LayoutModel",
            "_view_count": null,
            "_view_module": "@jupyter-widgets/base",
            "_view_module_version": "1.2.0",
            "_view_name": "LayoutView",
            "align_content": null,
            "align_items": null,
            "align_self": null,
            "border": null,
            "bottom": null,
            "display": null,
            "flex": null,
            "flex_flow": null,
            "grid_area": null,
            "grid_auto_columns": null,
            "grid_auto_flow": null,
            "grid_auto_rows": null,
            "grid_column": null,
            "grid_gap": null,
            "grid_row": null,
            "grid_template_areas": null,
            "grid_template_columns": null,
            "grid_template_rows": null,
            "height": null,
            "justify_content": null,
            "justify_items": null,
            "left": null,
            "margin": null,
            "max_height": null,
            "max_width": null,
            "min_height": null,
            "min_width": null,
            "object_fit": null,
            "object_position": null,
            "order": null,
            "overflow": null,
            "overflow_x": null,
            "overflow_y": null,
            "padding": null,
            "right": null,
            "top": null,
            "visibility": null,
            "width": null
          }
        },
        "df7e362c60b34a3f99a7f4643eeac3a0": {
          "model_module": "@jupyter-widgets/controls",
          "model_name": "DescriptionStyleModel",
          "model_module_version": "1.5.0",
          "state": {
            "_model_module": "@jupyter-widgets/controls",
            "_model_module_version": "1.5.0",
            "_model_name": "DescriptionStyleModel",
            "_view_count": null,
            "_view_module": "@jupyter-widgets/base",
            "_view_module_version": "1.2.0",
            "_view_name": "StyleView",
            "description_width": ""
          }
        }
      }
    }
  },
  "nbformat": 4,
  "nbformat_minor": 5
}